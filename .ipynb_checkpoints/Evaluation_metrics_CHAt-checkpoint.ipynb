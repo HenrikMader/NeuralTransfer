{
 "cells": [
  {
   "cell_type": "markdown",
   "id": "bd6d1946-43a8-4066-9948-dbf1b12cc54b",
   "metadata": {},
   "source": [
    "This notebook is used for the evaluation of the chosen metrics for the stylized images we produced with all the architectures."
   ]
  },
  {
   "cell_type": "code",
   "execution_count": 1,
   "id": "e8b55925-6c82-4765-8466-b16570b7c6ac",
   "metadata": {},
   "outputs": [
    {
     "ename": "KeyError",
     "evalue": "'SSIM Value'",
     "output_type": "error",
     "traceback": [
      "\u001b[1;31m---------------------------------------------------------------------------\u001b[0m",
      "\u001b[1;31mKeyError\u001b[0m                                  Traceback (most recent call last)",
      "Cell \u001b[1;32mIn[1], line 35\u001b[0m\n\u001b[0;32m     33\u001b[0m \u001b[38;5;28;01mfor\u001b[39;00m architecture \u001b[38;5;129;01min\u001b[39;00m architectures:\n\u001b[0;32m     34\u001b[0m     filename \u001b[38;5;241m=\u001b[39m \u001b[38;5;124mf\u001b[39m\u001b[38;5;124m'\u001b[39m\u001b[38;5;124m./StylizedImages/\u001b[39m\u001b[38;5;132;01m{\u001b[39;00marchitecture\u001b[38;5;132;01m}\u001b[39;00m\u001b[38;5;124m/Metrics.txt\u001b[39m\u001b[38;5;124m'\u001b[39m\n\u001b[1;32m---> 35\u001b[0m     data, chi_values, ssim_values \u001b[38;5;241m=\u001b[39m \u001b[43mprocess_architecture_data\u001b[49m\u001b[43m(\u001b[49m\u001b[43mfilename\u001b[49m\u001b[43m)\u001b[49m\n\u001b[0;32m     36\u001b[0m     data_list\u001b[38;5;241m.\u001b[39mappend(data)\n\u001b[0;32m     37\u001b[0m     chi_values_list\u001b[38;5;241m.\u001b[39mappend(chi_values)\n",
      "Cell \u001b[1;32mIn[1], line 18\u001b[0m, in \u001b[0;36mprocess_architecture_data\u001b[1;34m(filename)\u001b[0m\n\u001b[0;32m     16\u001b[0m entry[\u001b[38;5;124m'\u001b[39m\u001b[38;5;124mValues\u001b[39m\u001b[38;5;124m'\u001b[39m] \u001b[38;5;241m=\u001b[39m [\u001b[38;5;28mfloat\u001b[39m(value) \u001b[38;5;28;01mfor\u001b[39;00m value \u001b[38;5;129;01min\u001b[39;00m line\u001b[38;5;241m.\u001b[39msplit()]\n\u001b[0;32m     17\u001b[0m chi_values\u001b[38;5;241m.\u001b[39mappend(\u001b[38;5;241m1\u001b[39m \u001b[38;5;241m/\u001b[39m (\u001b[38;5;241m1\u001b[39m \u001b[38;5;241m+\u001b[39m \u001b[38;5;28msum\u001b[39m(entry[\u001b[38;5;124m'\u001b[39m\u001b[38;5;124mValues\u001b[39m\u001b[38;5;124m'\u001b[39m]) \u001b[38;5;241m/\u001b[39m \u001b[38;5;28mlen\u001b[39m(entry[\u001b[38;5;124m'\u001b[39m\u001b[38;5;124mValues\u001b[39m\u001b[38;5;124m'\u001b[39m])))\n\u001b[1;32m---> 18\u001b[0m ssim_values\u001b[38;5;241m.\u001b[39mappend(\u001b[43mentry\u001b[49m\u001b[43m[\u001b[49m\u001b[38;5;124;43m'\u001b[39;49m\u001b[38;5;124;43mSSIM Value\u001b[39;49m\u001b[38;5;124;43m'\u001b[39;49m\u001b[43m]\u001b[49m)\n\u001b[0;32m     19\u001b[0m data\u001b[38;5;241m.\u001b[39mappend(entry)\n\u001b[0;32m     20\u001b[0m entry \u001b[38;5;241m=\u001b[39m {}\n",
      "\u001b[1;31mKeyError\u001b[0m: 'SSIM Value'"
     ]
    }
   ],
   "source": [
    "# Function to process architecture data and calculate scores\n",
    "def process_architecture_data(filename):\n",
    "    data = []\n",
    "    chi_values = []\n",
    "    ssim_values = []\n",
    "\n",
    "    with open(filename, 'r') as file:\n",
    "        entry = {}\n",
    "        for line in file:\n",
    "            line = line.strip()\n",
    "            if line.startswith('Image and Style:'):\n",
    "                entry['Image'] = line.split(':')[1].strip()\n",
    "            elif line.startswith('SSIM Value:'):\n",
    "                entry['SSIM Value'] = float(line.split(':')[1].strip())\n",
    "            else:\n",
    "                entry['Values'] = [float(value) for value in line.split()]\n",
    "                chi_values.append(1 / (1 + sum(entry['Values']) / len(entry['Values'])))\n",
    "                ssim_values.append(entry['SSIM Value'])\n",
    "                data.append(entry)\n",
    "                entry = {}\n",
    "\n",
    "    return data, chi_values, ssim_values\n",
    "\n",
    "# List of architecture directories\n",
    "architectures = ['Efficient', 'Mobile', 'VGG']\n",
    "\n",
    "# Initialize data structures to store architecture data\n",
    "data_list = []\n",
    "chi_values_list = []\n",
    "ssim_values_list = []\n",
    "\n",
    "# Process data for each architecture\n",
    "for architecture in architectures:\n",
    "    filename = f'./StylizedImages/{architecture}/Metrics.txt'\n",
    "    data, chi_values, ssim_values = process_architecture_data(filename)\n",
    "    data_list.append(data)\n",
    "    chi_values_list.append(chi_values)\n",
    "    ssim_values_list.append(ssim_values)\n",
    "\n",
    "# Function to calculate average scores\n",
    "def calculate_average_scores(chi_values, ssim_values):\n",
    "    return [(chi + ssim) / 2 for chi, ssim in zip(chi_values, ssim_values)]\n",
    "\n",
    "# Function to find the architecture with the highest and second-highest scores\n",
    "def find_best_architecture(average_scores):\n",
    "    best_architecture = max(architectures, key=lambda architecture: average_scores[architectures.index(architecture)])\n",
    "    second_best_score = -1\n",
    "    second_best_architecture = \"\"\n",
    "    for architecture in architectures:\n",
    "        if architecture != best_architecture:\n",
    "            if average_scores[architectures.index(architecture)] > second_best_score:\n",
    "                second_best_score = average_scores[architectures.index(architecture)]\n",
    "                second_best_architecture = architecture\n",
    "    return best_architecture, second_best_architecture\n",
    "\n",
    "# Initialize lists to store first and second places\n",
    "first_places = []\n",
    "second_places = []\n",
    "\n",
    "# Process and compare architecture data\n",
    "for i, image_data in enumerate(data_list[0]):\n",
    "    average_scores = calculate_average_scores([chi[i] for chi in chi_values_list], [ssim[i] for ssim in ssim_values_list])\n",
    "    best_architecture, second_best_architecture = find_best_architecture(average_scores)\n",
    "    image_name = image_data['Image']\n",
    "    print(f\"For Image '{image_name}', {best_architecture} has the largest score: {average_scores[architectures.index(best_architecture)]}.\")\n",
    "    print(f\"For Image '{image_name}', {second_best_architecture} has the second-largest score: {average_scores[architectures.index(second_best_architecture)]}.\")\n",
    "    first_places.append(best_architecture)\n",
    "    second_places.append(second_best_architecture)\n",
    "    print()\n",
    "\n",
    "# Print the lists of first and second places\n",
    "print(\"First Places:\", first_places)\n",
    "print(\"Second Places:\", second_places)\n"
   ]
  },
  {
   "cell_type": "code",
   "execution_count": null,
   "id": "96408bca-9532-49d6-8e3f-8751c69e49e6",
   "metadata": {},
   "outputs": [],
   "source": []
  }
 ],
 "metadata": {
  "kernelspec": {
   "display_name": "Python 3 (ipykernel)",
   "language": "python",
   "name": "python3"
  },
  "language_info": {
   "codemirror_mode": {
    "name": "ipython",
    "version": 3
   },
   "file_extension": ".py",
   "mimetype": "text/x-python",
   "name": "python",
   "nbconvert_exporter": "python",
   "pygments_lexer": "ipython3",
   "version": "3.9.18"
  }
 },
 "nbformat": 4,
 "nbformat_minor": 5
}
